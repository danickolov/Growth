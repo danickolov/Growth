{
 "cells": [
  {
   "cell_type": "code",
   "execution_count": 1,
   "metadata": {},
   "outputs": [],
   "source": [
    "import pandas as pd"
   ]
  },
  {
   "cell_type": "markdown",
   "metadata": {},
   "source": [
    "## Food Data Cleaning"
   ]
  },
  {
   "cell_type": "code",
   "execution_count": 2,
   "metadata": {},
   "outputs": [],
   "source": [
    "df = pd.read_csv('USDA-Agricultural-Production.csv', index_col=0)"
   ]
  },
  {
   "cell_type": "code",
   "execution_count": 17,
   "metadata": {},
   "outputs": [
    {
     "data": {
      "text/html": [
       "<div>\n",
       "<style scoped>\n",
       "    .dataframe tbody tr th:only-of-type {\n",
       "        vertical-align: middle;\n",
       "    }\n",
       "\n",
       "    .dataframe tbody tr th {\n",
       "        vertical-align: top;\n",
       "    }\n",
       "\n",
       "    .dataframe thead th {\n",
       "        text-align: right;\n",
       "    }\n",
       "</style>\n",
       "<table border=\"1\" class=\"dataframe\">\n",
       "  <thead>\n",
       "    <tr style=\"text-align: right;\">\n",
       "      <th></th>\n",
       "      <th>Commodity_Description</th>\n",
       "      <th>Country_Code</th>\n",
       "      <th>Country_Name</th>\n",
       "      <th>Year</th>\n",
       "      <th>Attribute_Description</th>\n",
       "      <th>Unit_Description</th>\n",
       "      <th>Value</th>\n",
       "      <th>Seen_On</th>\n",
       "    </tr>\n",
       "  </thead>\n",
       "  <tbody>\n",
       "    <tr>\n",
       "      <th>0</th>\n",
       "      <td>Almonds, Shelled Basis</td>\n",
       "      <td>GR</td>\n",
       "      <td>Greece</td>\n",
       "      <td>1983</td>\n",
       "      <td>Beginning Stocks</td>\n",
       "      <td>(MT)</td>\n",
       "      <td>0.0</td>\n",
       "      <td>198400</td>\n",
       "    </tr>\n",
       "    <tr>\n",
       "      <th>1</th>\n",
       "      <td>Almonds, Shelled Basis</td>\n",
       "      <td>GR</td>\n",
       "      <td>Greece</td>\n",
       "      <td>1983</td>\n",
       "      <td>Domestic Consumption</td>\n",
       "      <td>(MT)</td>\n",
       "      <td>9700.0</td>\n",
       "      <td>198400</td>\n",
       "    </tr>\n",
       "    <tr>\n",
       "      <th>2</th>\n",
       "      <td>Almonds, Shelled Basis</td>\n",
       "      <td>GR</td>\n",
       "      <td>Greece</td>\n",
       "      <td>1983</td>\n",
       "      <td>Ending Stocks</td>\n",
       "      <td>(MT)</td>\n",
       "      <td>345.0</td>\n",
       "      <td>198400</td>\n",
       "    </tr>\n",
       "    <tr>\n",
       "      <th>3</th>\n",
       "      <td>Almonds, Shelled Basis</td>\n",
       "      <td>GR</td>\n",
       "      <td>Greece</td>\n",
       "      <td>1983</td>\n",
       "      <td>Exports</td>\n",
       "      <td>(MT)</td>\n",
       "      <td>4300.0</td>\n",
       "      <td>198400</td>\n",
       "    </tr>\n",
       "    <tr>\n",
       "      <th>4</th>\n",
       "      <td>Almonds, Shelled Basis</td>\n",
       "      <td>GR</td>\n",
       "      <td>Greece</td>\n",
       "      <td>1983</td>\n",
       "      <td>Imports</td>\n",
       "      <td>(MT)</td>\n",
       "      <td>45.0</td>\n",
       "      <td>198400</td>\n",
       "    </tr>\n",
       "    <tr>\n",
       "      <th>5</th>\n",
       "      <td>Almonds, Shelled Basis</td>\n",
       "      <td>GR</td>\n",
       "      <td>Greece</td>\n",
       "      <td>1983</td>\n",
       "      <td>Production</td>\n",
       "      <td>(MT)</td>\n",
       "      <td>14300.0</td>\n",
       "      <td>198400</td>\n",
       "    </tr>\n",
       "    <tr>\n",
       "      <th>6</th>\n",
       "      <td>Almonds, Shelled Basis</td>\n",
       "      <td>GR</td>\n",
       "      <td>Greece</td>\n",
       "      <td>1983</td>\n",
       "      <td>Total Distribution</td>\n",
       "      <td>(MT)</td>\n",
       "      <td>14345.0</td>\n",
       "      <td>198400</td>\n",
       "    </tr>\n",
       "    <tr>\n",
       "      <th>7</th>\n",
       "      <td>Almonds, Shelled Basis</td>\n",
       "      <td>GR</td>\n",
       "      <td>Greece</td>\n",
       "      <td>1983</td>\n",
       "      <td>Total Supply</td>\n",
       "      <td>(MT)</td>\n",
       "      <td>14345.0</td>\n",
       "      <td>198400</td>\n",
       "    </tr>\n",
       "    <tr>\n",
       "      <th>8</th>\n",
       "      <td>Almonds, Shelled Basis</td>\n",
       "      <td>GR</td>\n",
       "      <td>Greece</td>\n",
       "      <td>1984</td>\n",
       "      <td>Beginning Stocks</td>\n",
       "      <td>(MT)</td>\n",
       "      <td>345.0</td>\n",
       "      <td>198500</td>\n",
       "    </tr>\n",
       "    <tr>\n",
       "      <th>9</th>\n",
       "      <td>Almonds, Shelled Basis</td>\n",
       "      <td>GR</td>\n",
       "      <td>Greece</td>\n",
       "      <td>1984</td>\n",
       "      <td>Domestic Consumption</td>\n",
       "      <td>(MT)</td>\n",
       "      <td>11500.0</td>\n",
       "      <td>198500</td>\n",
       "    </tr>\n",
       "  </tbody>\n",
       "</table>\n",
       "</div>"
      ],
      "text/plain": [
       "    Commodity_Description Country_Code Country_Name  Year  \\\n",
       "0  Almonds, Shelled Basis           GR       Greece  1983   \n",
       "1  Almonds, Shelled Basis           GR       Greece  1983   \n",
       "2  Almonds, Shelled Basis           GR       Greece  1983   \n",
       "3  Almonds, Shelled Basis           GR       Greece  1983   \n",
       "4  Almonds, Shelled Basis           GR       Greece  1983   \n",
       "5  Almonds, Shelled Basis           GR       Greece  1983   \n",
       "6  Almonds, Shelled Basis           GR       Greece  1983   \n",
       "7  Almonds, Shelled Basis           GR       Greece  1983   \n",
       "8  Almonds, Shelled Basis           GR       Greece  1984   \n",
       "9  Almonds, Shelled Basis           GR       Greece  1984   \n",
       "\n",
       "  Attribute_Description Unit_Description    Value  Seen_On  \n",
       "0      Beginning Stocks             (MT)      0.0   198400  \n",
       "1  Domestic Consumption             (MT)   9700.0   198400  \n",
       "2         Ending Stocks             (MT)    345.0   198400  \n",
       "3               Exports             (MT)   4300.0   198400  \n",
       "4               Imports             (MT)     45.0   198400  \n",
       "5            Production             (MT)  14300.0   198400  \n",
       "6    Total Distribution             (MT)  14345.0   198400  \n",
       "7          Total Supply             (MT)  14345.0   198400  \n",
       "8      Beginning Stocks             (MT)    345.0   198500  \n",
       "9  Domestic Consumption             (MT)  11500.0   198500  "
      ]
     },
     "execution_count": 17,
     "metadata": {},
     "output_type": "execute_result"
    }
   ],
   "source": [
    "df.head(10)"
   ]
  },
  {
   "cell_type": "code",
   "execution_count": 21,
   "metadata": {},
   "outputs": [],
   "source": [
    "df = df[df['Attribute_Description'] == 'Production']"
   ]
  },
  {
   "cell_type": "code",
   "execution_count": 91,
   "metadata": {},
   "outputs": [],
   "source": [
    "foods = ['Wheat', 'Corn', 'Rice, Milled']\n",
    "df = df[df['Commodity_Description'].isin(foods)]"
   ]
  },
  {
   "cell_type": "code",
   "execution_count": 92,
   "metadata": {},
   "outputs": [
    {
     "data": {
      "text/html": [
       "<div>\n",
       "<style scoped>\n",
       "    .dataframe tbody tr th:only-of-type {\n",
       "        vertical-align: middle;\n",
       "    }\n",
       "\n",
       "    .dataframe tbody tr th {\n",
       "        vertical-align: top;\n",
       "    }\n",
       "\n",
       "    .dataframe thead th {\n",
       "        text-align: right;\n",
       "    }\n",
       "</style>\n",
       "<table border=\"1\" class=\"dataframe\">\n",
       "  <thead>\n",
       "    <tr style=\"text-align: right;\">\n",
       "      <th></th>\n",
       "      <th>Commodity_Description</th>\n",
       "      <th>Country_Code</th>\n",
       "      <th>Country_Name</th>\n",
       "      <th>Year</th>\n",
       "      <th>Attribute_Description</th>\n",
       "      <th>Unit_Description</th>\n",
       "      <th>Value</th>\n",
       "      <th>Seen_On</th>\n",
       "    </tr>\n",
       "  </thead>\n",
       "  <tbody>\n",
       "    <tr>\n",
       "      <th>0</th>\n",
       "      <td>Corn</td>\n",
       "      <td>AF</td>\n",
       "      <td>Afghanistan</td>\n",
       "      <td>1960</td>\n",
       "      <td>Production</td>\n",
       "      <td>(1000 MT)</td>\n",
       "      <td>700.0</td>\n",
       "      <td>200607</td>\n",
       "    </tr>\n",
       "    <tr>\n",
       "      <th>1</th>\n",
       "      <td>Corn</td>\n",
       "      <td>AF</td>\n",
       "      <td>Afghanistan</td>\n",
       "      <td>1961</td>\n",
       "      <td>Production</td>\n",
       "      <td>(1000 MT)</td>\n",
       "      <td>700.0</td>\n",
       "      <td>200607</td>\n",
       "    </tr>\n",
       "    <tr>\n",
       "      <th>2</th>\n",
       "      <td>Corn</td>\n",
       "      <td>AF</td>\n",
       "      <td>Afghanistan</td>\n",
       "      <td>1962</td>\n",
       "      <td>Production</td>\n",
       "      <td>(1000 MT)</td>\n",
       "      <td>700.0</td>\n",
       "      <td>200607</td>\n",
       "    </tr>\n",
       "    <tr>\n",
       "      <th>3</th>\n",
       "      <td>Corn</td>\n",
       "      <td>AF</td>\n",
       "      <td>Afghanistan</td>\n",
       "      <td>1963</td>\n",
       "      <td>Production</td>\n",
       "      <td>(1000 MT)</td>\n",
       "      <td>713.0</td>\n",
       "      <td>200607</td>\n",
       "    </tr>\n",
       "    <tr>\n",
       "      <th>4</th>\n",
       "      <td>Corn</td>\n",
       "      <td>AF</td>\n",
       "      <td>Afghanistan</td>\n",
       "      <td>1964</td>\n",
       "      <td>Production</td>\n",
       "      <td>(1000 MT)</td>\n",
       "      <td>720.0</td>\n",
       "      <td>200607</td>\n",
       "    </tr>\n",
       "    <tr>\n",
       "      <th>...</th>\n",
       "      <td>...</td>\n",
       "      <td>...</td>\n",
       "      <td>...</td>\n",
       "      <td>...</td>\n",
       "      <td>...</td>\n",
       "      <td>...</td>\n",
       "      <td>...</td>\n",
       "      <td>...</td>\n",
       "    </tr>\n",
       "    <tr>\n",
       "      <th>119134</th>\n",
       "      <td>Wheat</td>\n",
       "      <td>RH</td>\n",
       "      <td>Zimbabwe</td>\n",
       "      <td>2017</td>\n",
       "      <td>Production</td>\n",
       "      <td>(1000 MT)</td>\n",
       "      <td>158.0</td>\n",
       "      <td>202203</td>\n",
       "    </tr>\n",
       "    <tr>\n",
       "      <th>119135</th>\n",
       "      <td>Wheat</td>\n",
       "      <td>RH</td>\n",
       "      <td>Zimbabwe</td>\n",
       "      <td>2018</td>\n",
       "      <td>Production</td>\n",
       "      <td>(1000 MT)</td>\n",
       "      <td>170.0</td>\n",
       "      <td>202203</td>\n",
       "    </tr>\n",
       "    <tr>\n",
       "      <th>119136</th>\n",
       "      <td>Wheat</td>\n",
       "      <td>RH</td>\n",
       "      <td>Zimbabwe</td>\n",
       "      <td>2019</td>\n",
       "      <td>Production</td>\n",
       "      <td>(1000 MT)</td>\n",
       "      <td>95.0</td>\n",
       "      <td>202203</td>\n",
       "    </tr>\n",
       "    <tr>\n",
       "      <th>119137</th>\n",
       "      <td>Wheat</td>\n",
       "      <td>RH</td>\n",
       "      <td>Zimbabwe</td>\n",
       "      <td>2020</td>\n",
       "      <td>Production</td>\n",
       "      <td>(1000 MT)</td>\n",
       "      <td>213.0</td>\n",
       "      <td>202203</td>\n",
       "    </tr>\n",
       "    <tr>\n",
       "      <th>119138</th>\n",
       "      <td>Wheat</td>\n",
       "      <td>RH</td>\n",
       "      <td>Zimbabwe</td>\n",
       "      <td>2021</td>\n",
       "      <td>Production</td>\n",
       "      <td>(1000 MT)</td>\n",
       "      <td>210.0</td>\n",
       "      <td>202203</td>\n",
       "    </tr>\n",
       "  </tbody>\n",
       "</table>\n",
       "<p>119139 rows × 8 columns</p>\n",
       "</div>"
      ],
      "text/plain": [
       "       Commodity_Description Country_Code Country_Name  Year  \\\n",
       "0                       Corn           AF  Afghanistan  1960   \n",
       "1                       Corn           AF  Afghanistan  1961   \n",
       "2                       Corn           AF  Afghanistan  1962   \n",
       "3                       Corn           AF  Afghanistan  1963   \n",
       "4                       Corn           AF  Afghanistan  1964   \n",
       "...                      ...          ...          ...   ...   \n",
       "119134                 Wheat           RH     Zimbabwe  2017   \n",
       "119135                 Wheat           RH     Zimbabwe  2018   \n",
       "119136                 Wheat           RH     Zimbabwe  2019   \n",
       "119137                 Wheat           RH     Zimbabwe  2020   \n",
       "119138                 Wheat           RH     Zimbabwe  2021   \n",
       "\n",
       "       Attribute_Description Unit_Description  Value  Seen_On  \n",
       "0                 Production        (1000 MT)  700.0   200607  \n",
       "1                 Production        (1000 MT)  700.0   200607  \n",
       "2                 Production        (1000 MT)  700.0   200607  \n",
       "3                 Production        (1000 MT)  713.0   200607  \n",
       "4                 Production        (1000 MT)  720.0   200607  \n",
       "...                      ...              ...    ...      ...  \n",
       "119134            Production        (1000 MT)  158.0   202203  \n",
       "119135            Production        (1000 MT)  170.0   202203  \n",
       "119136            Production        (1000 MT)   95.0   202203  \n",
       "119137            Production        (1000 MT)  213.0   202203  \n",
       "119138            Production        (1000 MT)  210.0   202203  \n",
       "\n",
       "[119139 rows x 8 columns]"
      ]
     },
     "execution_count": 92,
     "metadata": {},
     "output_type": "execute_result"
    }
   ],
   "source": [
    "df.reset_index(drop=True, inplace=True)\n",
    "df"
   ]
  },
  {
   "cell_type": "code",
   "execution_count": 93,
   "metadata": {},
   "outputs": [],
   "source": [
    "df.to_csv('USDA-Staples.csv')"
   ]
  },
  {
   "cell_type": "code",
   "execution_count": 95,
   "metadata": {},
   "outputs": [
    {
     "name": "stderr",
     "output_type": "stream",
     "text": [
      "C:\\Users\\josep\\AppData\\Local\\Temp\\ipykernel_16428\\3173993778.py:1: SettingWithCopyWarning: \n",
      "A value is trying to be set on a copy of a slice from a DataFrame.\n",
      "Try using .loc[row_indexer,col_indexer] = value instead\n",
      "\n",
      "See the caveats in the documentation: https://pandas.pydata.org/pandas-docs/stable/user_guide/indexing.html#returning-a-view-versus-a-copy\n",
      "  df['Seen_On'] = pd.Series([pd.to_datetime(x, format='%Y%m') for x in df['Seen_On']])\n"
     ]
    }
   ],
   "source": [
    "df['Seen_On'] = pd.Series([pd.to_datetime(x, format='%Y%m') for x in df['Seen_On']])"
   ]
  },
  {
   "cell_type": "code",
   "execution_count": 104,
   "metadata": {},
   "outputs": [
    {
     "data": {
      "text/plain": [
       "187"
      ]
     },
     "execution_count": 104,
     "metadata": {},
     "output_type": "execute_result"
    }
   ],
   "source": [
    "len(df.loc[df['Year'] == 2021, 'Country_Name'].unique())\n",
    "len(df.Country_Name.unique())"
   ]
  },
  {
   "cell_type": "markdown",
   "metadata": {},
   "source": [
    "## Population Data Cleaning"
   ]
  },
  {
   "cell_type": "code",
   "execution_count": 105,
   "metadata": {},
   "outputs": [],
   "source": [
    "pop = pd.read_csv('world_population.csv')"
   ]
  },
  {
   "cell_type": "code",
   "execution_count": 114,
   "metadata": {},
   "outputs": [
    {
     "data": {
      "text/html": [
       "<div>\n",
       "<style scoped>\n",
       "    .dataframe tbody tr th:only-of-type {\n",
       "        vertical-align: middle;\n",
       "    }\n",
       "\n",
       "    .dataframe tbody tr th {\n",
       "        vertical-align: top;\n",
       "    }\n",
       "\n",
       "    .dataframe thead th {\n",
       "        text-align: right;\n",
       "    }\n",
       "</style>\n",
       "<table border=\"1\" class=\"dataframe\">\n",
       "  <thead>\n",
       "    <tr style=\"text-align: right;\">\n",
       "      <th></th>\n",
       "      <th>Country/Territory</th>\n",
       "      <th>2022 Population</th>\n",
       "      <th>2020 Population</th>\n",
       "      <th>2015 Population</th>\n",
       "      <th>2010 Population</th>\n",
       "      <th>2000 Population</th>\n",
       "      <th>1990 Population</th>\n",
       "      <th>1980 Population</th>\n",
       "      <th>1970 Population</th>\n",
       "      <th>Growth Rate</th>\n",
       "    </tr>\n",
       "  </thead>\n",
       "  <tbody>\n",
       "    <tr>\n",
       "      <th>0</th>\n",
       "      <td>Afghanistan</td>\n",
       "      <td>41128771</td>\n",
       "      <td>38972230</td>\n",
       "      <td>33753499</td>\n",
       "      <td>28189672</td>\n",
       "      <td>19542982</td>\n",
       "      <td>10694796</td>\n",
       "      <td>12486631</td>\n",
       "      <td>10752971</td>\n",
       "      <td>1.0257</td>\n",
       "    </tr>\n",
       "    <tr>\n",
       "      <th>1</th>\n",
       "      <td>Albania</td>\n",
       "      <td>2842321</td>\n",
       "      <td>2866849</td>\n",
       "      <td>2882481</td>\n",
       "      <td>2913399</td>\n",
       "      <td>3182021</td>\n",
       "      <td>3295066</td>\n",
       "      <td>2941651</td>\n",
       "      <td>2324731</td>\n",
       "      <td>0.9957</td>\n",
       "    </tr>\n",
       "    <tr>\n",
       "      <th>2</th>\n",
       "      <td>Algeria</td>\n",
       "      <td>44903225</td>\n",
       "      <td>43451666</td>\n",
       "      <td>39543154</td>\n",
       "      <td>35856344</td>\n",
       "      <td>30774621</td>\n",
       "      <td>25518074</td>\n",
       "      <td>18739378</td>\n",
       "      <td>13795915</td>\n",
       "      <td>1.0164</td>\n",
       "    </tr>\n",
       "    <tr>\n",
       "      <th>3</th>\n",
       "      <td>American Samoa</td>\n",
       "      <td>44273</td>\n",
       "      <td>46189</td>\n",
       "      <td>51368</td>\n",
       "      <td>54849</td>\n",
       "      <td>58230</td>\n",
       "      <td>47818</td>\n",
       "      <td>32886</td>\n",
       "      <td>27075</td>\n",
       "      <td>0.9831</td>\n",
       "    </tr>\n",
       "    <tr>\n",
       "      <th>4</th>\n",
       "      <td>Andorra</td>\n",
       "      <td>79824</td>\n",
       "      <td>77700</td>\n",
       "      <td>71746</td>\n",
       "      <td>71519</td>\n",
       "      <td>66097</td>\n",
       "      <td>53569</td>\n",
       "      <td>35611</td>\n",
       "      <td>19860</td>\n",
       "      <td>1.0100</td>\n",
       "    </tr>\n",
       "  </tbody>\n",
       "</table>\n",
       "</div>"
      ],
      "text/plain": [
       "  Country/Territory  2022 Population  2020 Population  2015 Population  \\\n",
       "0       Afghanistan         41128771         38972230         33753499   \n",
       "1           Albania          2842321          2866849          2882481   \n",
       "2           Algeria         44903225         43451666         39543154   \n",
       "3    American Samoa            44273            46189            51368   \n",
       "4           Andorra            79824            77700            71746   \n",
       "\n",
       "   2010 Population  2000 Population  1990 Population  1980 Population  \\\n",
       "0         28189672         19542982         10694796         12486631   \n",
       "1          2913399          3182021          3295066          2941651   \n",
       "2         35856344         30774621         25518074         18739378   \n",
       "3            54849            58230            47818            32886   \n",
       "4            71519            66097            53569            35611   \n",
       "\n",
       "   1970 Population  Growth Rate  \n",
       "0         10752971       1.0257  \n",
       "1          2324731       0.9957  \n",
       "2         13795915       1.0164  \n",
       "3            27075       0.9831  \n",
       "4            19860       1.0100  "
      ]
     },
     "execution_count": 114,
     "metadata": {},
     "output_type": "execute_result"
    }
   ],
   "source": [
    "pop = pop[['Country/Territory', '2022 Population', '2020 Population', '2015 Population', '2010 Population', '2000 Population', '1990 Population', '1980 Population', '1970 Population', 'Growth Rate']]\n",
    "pop.head()"
   ]
  },
  {
   "cell_type": "code",
   "execution_count": 116,
   "metadata": {},
   "outputs": [],
   "source": [
    "pop.to_csv('population-cleaned.csv')"
   ]
  },
  {
   "cell_type": "markdown",
   "metadata": {},
   "source": [
    "## Try Linear Regression"
   ]
  },
  {
   "cell_type": "code",
   "execution_count": 2,
   "metadata": {},
   "outputs": [],
   "source": [
    "import matplotlib.pyplot as plt\n",
    "from sklearn import preprocessing, svm\n",
    "from sklearn.model_selection import train_test_split\n",
    "from sklearn.linear_model import LinearRegression\n",
    "import pandas as pd\n",
    "#remove pandas import if already imported above."
   ]
  },
  {
   "cell_type": "code",
   "execution_count": 3,
   "metadata": {
    "scrolled": true
   },
   "outputs": [],
   "source": [
    "pop2 = pd.read_csv('population-cleaned.csv')\n",
    "food2 = pd.read_csv('USDA-Staples.csv')"
   ]
  },
  {
   "cell_type": "code",
   "execution_count": 4,
   "metadata": {},
   "outputs": [
    {
     "data": {
      "text/html": [
       "<div>\n",
       "<style scoped>\n",
       "    .dataframe tbody tr th:only-of-type {\n",
       "        vertical-align: middle;\n",
       "    }\n",
       "\n",
       "    .dataframe tbody tr th {\n",
       "        vertical-align: top;\n",
       "    }\n",
       "\n",
       "    .dataframe thead th {\n",
       "        text-align: right;\n",
       "    }\n",
       "</style>\n",
       "<table border=\"1\" class=\"dataframe\">\n",
       "  <thead>\n",
       "    <tr style=\"text-align: right;\">\n",
       "      <th></th>\n",
       "      <th>Unnamed: 0</th>\n",
       "      <th>Commodity_Description</th>\n",
       "      <th>Country_Code</th>\n",
       "      <th>Country_Name</th>\n",
       "      <th>Year</th>\n",
       "      <th>Attribute_Description</th>\n",
       "      <th>Unit_Description</th>\n",
       "      <th>Value</th>\n",
       "      <th>Seen_On</th>\n",
       "    </tr>\n",
       "  </thead>\n",
       "  <tbody>\n",
       "    <tr>\n",
       "      <th>0</th>\n",
       "      <td>0</td>\n",
       "      <td>Corn</td>\n",
       "      <td>AF</td>\n",
       "      <td>Afghanistan</td>\n",
       "      <td>1960</td>\n",
       "      <td>Production</td>\n",
       "      <td>(1000 MT)</td>\n",
       "      <td>700.0</td>\n",
       "      <td>200607</td>\n",
       "    </tr>\n",
       "    <tr>\n",
       "      <th>1</th>\n",
       "      <td>1</td>\n",
       "      <td>Corn</td>\n",
       "      <td>AF</td>\n",
       "      <td>Afghanistan</td>\n",
       "      <td>1961</td>\n",
       "      <td>Production</td>\n",
       "      <td>(1000 MT)</td>\n",
       "      <td>700.0</td>\n",
       "      <td>200607</td>\n",
       "    </tr>\n",
       "    <tr>\n",
       "      <th>2</th>\n",
       "      <td>2</td>\n",
       "      <td>Corn</td>\n",
       "      <td>AF</td>\n",
       "      <td>Afghanistan</td>\n",
       "      <td>1962</td>\n",
       "      <td>Production</td>\n",
       "      <td>(1000 MT)</td>\n",
       "      <td>700.0</td>\n",
       "      <td>200607</td>\n",
       "    </tr>\n",
       "    <tr>\n",
       "      <th>3</th>\n",
       "      <td>3</td>\n",
       "      <td>Corn</td>\n",
       "      <td>AF</td>\n",
       "      <td>Afghanistan</td>\n",
       "      <td>1963</td>\n",
       "      <td>Production</td>\n",
       "      <td>(1000 MT)</td>\n",
       "      <td>713.0</td>\n",
       "      <td>200607</td>\n",
       "    </tr>\n",
       "    <tr>\n",
       "      <th>4</th>\n",
       "      <td>4</td>\n",
       "      <td>Corn</td>\n",
       "      <td>AF</td>\n",
       "      <td>Afghanistan</td>\n",
       "      <td>1964</td>\n",
       "      <td>Production</td>\n",
       "      <td>(1000 MT)</td>\n",
       "      <td>720.0</td>\n",
       "      <td>200607</td>\n",
       "    </tr>\n",
       "    <tr>\n",
       "      <th>...</th>\n",
       "      <td>...</td>\n",
       "      <td>...</td>\n",
       "      <td>...</td>\n",
       "      <td>...</td>\n",
       "      <td>...</td>\n",
       "      <td>...</td>\n",
       "      <td>...</td>\n",
       "      <td>...</td>\n",
       "      <td>...</td>\n",
       "    </tr>\n",
       "    <tr>\n",
       "      <th>119134</th>\n",
       "      <td>119134</td>\n",
       "      <td>Wheat</td>\n",
       "      <td>RH</td>\n",
       "      <td>Zimbabwe</td>\n",
       "      <td>2017</td>\n",
       "      <td>Production</td>\n",
       "      <td>(1000 MT)</td>\n",
       "      <td>158.0</td>\n",
       "      <td>202203</td>\n",
       "    </tr>\n",
       "    <tr>\n",
       "      <th>119135</th>\n",
       "      <td>119135</td>\n",
       "      <td>Wheat</td>\n",
       "      <td>RH</td>\n",
       "      <td>Zimbabwe</td>\n",
       "      <td>2018</td>\n",
       "      <td>Production</td>\n",
       "      <td>(1000 MT)</td>\n",
       "      <td>170.0</td>\n",
       "      <td>202203</td>\n",
       "    </tr>\n",
       "    <tr>\n",
       "      <th>119136</th>\n",
       "      <td>119136</td>\n",
       "      <td>Wheat</td>\n",
       "      <td>RH</td>\n",
       "      <td>Zimbabwe</td>\n",
       "      <td>2019</td>\n",
       "      <td>Production</td>\n",
       "      <td>(1000 MT)</td>\n",
       "      <td>95.0</td>\n",
       "      <td>202203</td>\n",
       "    </tr>\n",
       "    <tr>\n",
       "      <th>119137</th>\n",
       "      <td>119137</td>\n",
       "      <td>Wheat</td>\n",
       "      <td>RH</td>\n",
       "      <td>Zimbabwe</td>\n",
       "      <td>2020</td>\n",
       "      <td>Production</td>\n",
       "      <td>(1000 MT)</td>\n",
       "      <td>213.0</td>\n",
       "      <td>202203</td>\n",
       "    </tr>\n",
       "    <tr>\n",
       "      <th>119138</th>\n",
       "      <td>119138</td>\n",
       "      <td>Wheat</td>\n",
       "      <td>RH</td>\n",
       "      <td>Zimbabwe</td>\n",
       "      <td>2021</td>\n",
       "      <td>Production</td>\n",
       "      <td>(1000 MT)</td>\n",
       "      <td>210.0</td>\n",
       "      <td>202203</td>\n",
       "    </tr>\n",
       "  </tbody>\n",
       "</table>\n",
       "<p>119139 rows × 9 columns</p>\n",
       "</div>"
      ],
      "text/plain": [
       "        Unnamed: 0 Commodity_Description Country_Code Country_Name  Year  \\\n",
       "0                0                  Corn           AF  Afghanistan  1960   \n",
       "1                1                  Corn           AF  Afghanistan  1961   \n",
       "2                2                  Corn           AF  Afghanistan  1962   \n",
       "3                3                  Corn           AF  Afghanistan  1963   \n",
       "4                4                  Corn           AF  Afghanistan  1964   \n",
       "...            ...                   ...          ...          ...   ...   \n",
       "119134      119134                 Wheat           RH     Zimbabwe  2017   \n",
       "119135      119135                 Wheat           RH     Zimbabwe  2018   \n",
       "119136      119136                 Wheat           RH     Zimbabwe  2019   \n",
       "119137      119137                 Wheat           RH     Zimbabwe  2020   \n",
       "119138      119138                 Wheat           RH     Zimbabwe  2021   \n",
       "\n",
       "       Attribute_Description Unit_Description  Value  Seen_On  \n",
       "0                 Production        (1000 MT)  700.0   200607  \n",
       "1                 Production        (1000 MT)  700.0   200607  \n",
       "2                 Production        (1000 MT)  700.0   200607  \n",
       "3                 Production        (1000 MT)  713.0   200607  \n",
       "4                 Production        (1000 MT)  720.0   200607  \n",
       "...                      ...              ...    ...      ...  \n",
       "119134            Production        (1000 MT)  158.0   202203  \n",
       "119135            Production        (1000 MT)  170.0   202203  \n",
       "119136            Production        (1000 MT)   95.0   202203  \n",
       "119137            Production        (1000 MT)  213.0   202203  \n",
       "119138            Production        (1000 MT)  210.0   202203  \n",
       "\n",
       "[119139 rows x 9 columns]"
      ]
     },
     "execution_count": 4,
     "metadata": {},
     "output_type": "execute_result"
    }
   ],
   "source": [
    "food2"
   ]
  },
  {
   "cell_type": "code",
   "execution_count": 15,
   "metadata": {},
   "outputs": [
    {
     "data": {
      "text/html": [
       "<div>\n",
       "<style scoped>\n",
       "    .dataframe tbody tr th:only-of-type {\n",
       "        vertical-align: middle;\n",
       "    }\n",
       "\n",
       "    .dataframe tbody tr th {\n",
       "        vertical-align: top;\n",
       "    }\n",
       "\n",
       "    .dataframe thead th {\n",
       "        text-align: right;\n",
       "    }\n",
       "</style>\n",
       "<table border=\"1\" class=\"dataframe\">\n",
       "  <thead>\n",
       "    <tr style=\"text-align: right;\">\n",
       "      <th></th>\n",
       "      <th>Unnamed: 0</th>\n",
       "      <th>Country/Territory</th>\n",
       "      <th>2022 Population</th>\n",
       "      <th>2020 Population</th>\n",
       "      <th>2015 Population</th>\n",
       "      <th>2010 Population</th>\n",
       "      <th>2000 Population</th>\n",
       "      <th>1990 Population</th>\n",
       "      <th>1980 Population</th>\n",
       "      <th>1970 Population</th>\n",
       "      <th>Growth Rate</th>\n",
       "    </tr>\n",
       "  </thead>\n",
       "  <tbody>\n",
       "    <tr>\n",
       "      <th>0</th>\n",
       "      <td>0</td>\n",
       "      <td>Afghanistan</td>\n",
       "      <td>41128771</td>\n",
       "      <td>38972230</td>\n",
       "      <td>33753499</td>\n",
       "      <td>28189672</td>\n",
       "      <td>19542982</td>\n",
       "      <td>10694796</td>\n",
       "      <td>12486631</td>\n",
       "      <td>10752971</td>\n",
       "      <td>1.0257</td>\n",
       "    </tr>\n",
       "    <tr>\n",
       "      <th>1</th>\n",
       "      <td>1</td>\n",
       "      <td>Albania</td>\n",
       "      <td>2842321</td>\n",
       "      <td>2866849</td>\n",
       "      <td>2882481</td>\n",
       "      <td>2913399</td>\n",
       "      <td>3182021</td>\n",
       "      <td>3295066</td>\n",
       "      <td>2941651</td>\n",
       "      <td>2324731</td>\n",
       "      <td>0.9957</td>\n",
       "    </tr>\n",
       "    <tr>\n",
       "      <th>2</th>\n",
       "      <td>2</td>\n",
       "      <td>Algeria</td>\n",
       "      <td>44903225</td>\n",
       "      <td>43451666</td>\n",
       "      <td>39543154</td>\n",
       "      <td>35856344</td>\n",
       "      <td>30774621</td>\n",
       "      <td>25518074</td>\n",
       "      <td>18739378</td>\n",
       "      <td>13795915</td>\n",
       "      <td>1.0164</td>\n",
       "    </tr>\n",
       "    <tr>\n",
       "      <th>5</th>\n",
       "      <td>5</td>\n",
       "      <td>Angola</td>\n",
       "      <td>35588987</td>\n",
       "      <td>33428485</td>\n",
       "      <td>28127721</td>\n",
       "      <td>23364185</td>\n",
       "      <td>16394062</td>\n",
       "      <td>11828638</td>\n",
       "      <td>8330047</td>\n",
       "      <td>6029700</td>\n",
       "      <td>1.0315</td>\n",
       "    </tr>\n",
       "    <tr>\n",
       "      <th>8</th>\n",
       "      <td>8</td>\n",
       "      <td>Argentina</td>\n",
       "      <td>45510318</td>\n",
       "      <td>45036032</td>\n",
       "      <td>43257065</td>\n",
       "      <td>41100123</td>\n",
       "      <td>37070774</td>\n",
       "      <td>32637657</td>\n",
       "      <td>28024803</td>\n",
       "      <td>23842803</td>\n",
       "      <td>1.0052</td>\n",
       "    </tr>\n",
       "    <tr>\n",
       "      <th>...</th>\n",
       "      <td>...</td>\n",
       "      <td>...</td>\n",
       "      <td>...</td>\n",
       "      <td>...</td>\n",
       "      <td>...</td>\n",
       "      <td>...</td>\n",
       "      <td>...</td>\n",
       "      <td>...</td>\n",
       "      <td>...</td>\n",
       "      <td>...</td>\n",
       "      <td>...</td>\n",
       "    </tr>\n",
       "    <tr>\n",
       "      <th>227</th>\n",
       "      <td>227</td>\n",
       "      <td>Venezuela</td>\n",
       "      <td>28301696</td>\n",
       "      <td>28490453</td>\n",
       "      <td>30529716</td>\n",
       "      <td>28715022</td>\n",
       "      <td>24427729</td>\n",
       "      <td>19750579</td>\n",
       "      <td>15210443</td>\n",
       "      <td>11355475</td>\n",
       "      <td>1.0036</td>\n",
       "    </tr>\n",
       "    <tr>\n",
       "      <th>228</th>\n",
       "      <td>228</td>\n",
       "      <td>Vietnam</td>\n",
       "      <td>98186856</td>\n",
       "      <td>96648685</td>\n",
       "      <td>92191398</td>\n",
       "      <td>87411012</td>\n",
       "      <td>79001142</td>\n",
       "      <td>66912613</td>\n",
       "      <td>52968270</td>\n",
       "      <td>41928849</td>\n",
       "      <td>1.0074</td>\n",
       "    </tr>\n",
       "    <tr>\n",
       "      <th>231</th>\n",
       "      <td>231</td>\n",
       "      <td>Yemen</td>\n",
       "      <td>33696614</td>\n",
       "      <td>32284046</td>\n",
       "      <td>28516545</td>\n",
       "      <td>24743946</td>\n",
       "      <td>18628700</td>\n",
       "      <td>13375121</td>\n",
       "      <td>9204938</td>\n",
       "      <td>6843607</td>\n",
       "      <td>1.0217</td>\n",
       "    </tr>\n",
       "    <tr>\n",
       "      <th>232</th>\n",
       "      <td>232</td>\n",
       "      <td>Zambia</td>\n",
       "      <td>20017675</td>\n",
       "      <td>18927715</td>\n",
       "      <td>16248230</td>\n",
       "      <td>13792086</td>\n",
       "      <td>9891136</td>\n",
       "      <td>7686401</td>\n",
       "      <td>5720438</td>\n",
       "      <td>4281671</td>\n",
       "      <td>1.0280</td>\n",
       "    </tr>\n",
       "    <tr>\n",
       "      <th>233</th>\n",
       "      <td>233</td>\n",
       "      <td>Zimbabwe</td>\n",
       "      <td>16320537</td>\n",
       "      <td>15669666</td>\n",
       "      <td>14154937</td>\n",
       "      <td>12839771</td>\n",
       "      <td>11834676</td>\n",
       "      <td>10113893</td>\n",
       "      <td>7049926</td>\n",
       "      <td>5202918</td>\n",
       "      <td>1.0204</td>\n",
       "    </tr>\n",
       "  </tbody>\n",
       "</table>\n",
       "<p>131 rows × 11 columns</p>\n",
       "</div>"
      ],
      "text/plain": [
       "     Unnamed: 0 Country/Territory  2022 Population  2020 Population  \\\n",
       "0             0       Afghanistan         41128771         38972230   \n",
       "1             1           Albania          2842321          2866849   \n",
       "2             2           Algeria         44903225         43451666   \n",
       "5             5            Angola         35588987         33428485   \n",
       "8             8         Argentina         45510318         45036032   \n",
       "..          ...               ...              ...              ...   \n",
       "227         227         Venezuela         28301696         28490453   \n",
       "228         228           Vietnam         98186856         96648685   \n",
       "231         231             Yemen         33696614         32284046   \n",
       "232         232            Zambia         20017675         18927715   \n",
       "233         233          Zimbabwe         16320537         15669666   \n",
       "\n",
       "     2015 Population  2010 Population  2000 Population  1990 Population  \\\n",
       "0           33753499         28189672         19542982         10694796   \n",
       "1            2882481          2913399          3182021          3295066   \n",
       "2           39543154         35856344         30774621         25518074   \n",
       "5           28127721         23364185         16394062         11828638   \n",
       "8           43257065         41100123         37070774         32637657   \n",
       "..               ...              ...              ...              ...   \n",
       "227         30529716         28715022         24427729         19750579   \n",
       "228         92191398         87411012         79001142         66912613   \n",
       "231         28516545         24743946         18628700         13375121   \n",
       "232         16248230         13792086          9891136          7686401   \n",
       "233         14154937         12839771         11834676         10113893   \n",
       "\n",
       "     1980 Population  1970 Population  Growth Rate  \n",
       "0           12486631         10752971       1.0257  \n",
       "1            2941651          2324731       0.9957  \n",
       "2           18739378         13795915       1.0164  \n",
       "5            8330047          6029700       1.0315  \n",
       "8           28024803         23842803       1.0052  \n",
       "..               ...              ...          ...  \n",
       "227         15210443         11355475       1.0036  \n",
       "228         52968270         41928849       1.0074  \n",
       "231          9204938          6843607       1.0217  \n",
       "232          5720438          4281671       1.0280  \n",
       "233          7049926          5202918       1.0204  \n",
       "\n",
       "[131 rows x 11 columns]"
      ]
     },
     "execution_count": 15,
     "metadata": {},
     "output_type": "execute_result"
    }
   ],
   "source": [
    "popWfoodinfo_2020 = pop2[pop2['Country/Territory'].isin(food2.loc[food2['Year'] == 2020, 'Country_Name'])]\n",
    "popWfoodinfo_2020\n",
    "# plt.scatter(\n",
    "    # df.loc[df['Country_Name'].isin(popWfoodinfo['Country/Territory']) & (df['Commodity_Description'] == 'Corn') & (df['Year'] == 2020), 'Value'], \n",
    "    # popWfoodinfo.loc[:, '2020 Population']\n",
    "    # )"
   ]
  },
  {
   "cell_type": "code",
   "execution_count": 6,
   "metadata": {},
   "outputs": [
    {
     "data": {
      "text/plain": [
       "Country_Name\n",
       "Afghanistan      78275.0\n",
       "Albania          10332.0\n",
       "Algeria          66016.0\n",
       "Angola           36868.0\n",
       "Argentina      1419032.0\n",
       "                 ...    \n",
       "Venezuela         8951.0\n",
       "Vietnam         625530.0\n",
       "Yemen             2590.0\n",
       "Zambia           45664.0\n",
       "Zimbabwe         16172.0\n",
       "Name: Value, Length: 131, dtype: float64"
      ]
     },
     "execution_count": 6,
     "metadata": {},
     "output_type": "execute_result"
    }
   ],
   "source": [
    "# food2.drop(columns=\"Seen_On\", inplace=True)\n",
    "food2_2020 = food2.loc[food2['Country_Name'].isin(popWfoodinfo_2020['Country/Territory']) & (food2['Year'] == 2020)].groupby('Country_Name')['Value'].sum()\n",
    "food2_2020"
   ]
  },
  {
   "cell_type": "code",
   "execution_count": 17,
   "metadata": {},
   "outputs": [
    {
     "data": {
      "text/plain": [
       "Country_Name\n",
       "Afghanistan      83636.0\n",
       "Albania          10635.0\n",
       "Algeria          48116.0\n",
       "Angola           19658.0\n",
       "Argentina      1024975.0\n",
       "                 ...    \n",
       "Venezuela        24280.0\n",
       "Vietnam         916774.0\n",
       "Yemen             4488.0\n",
       "Zambia           49332.0\n",
       "Zimbabwe         10655.0\n",
       "Name: Value, Length: 131, dtype: float64"
      ]
     },
     "execution_count": 17,
     "metadata": {},
     "output_type": "execute_result"
    }
   ],
   "source": [
    "popWfoodinfo_2015 = pop2[pop2['Country/Territory'].isin(food2.loc[food2['Year'] == 2015, 'Country_Name'])]\n",
    "food2_2015 = food2.loc[food2['Country_Name'].isin(popWfoodinfo_2015['Country/Territory']) & (food2['Year'] == 2015)].groupby('Country_Name')['Value'].sum()\n",
    "food2_2015"
   ]
  },
  {
   "cell_type": "code",
   "execution_count": 18,
   "metadata": {},
   "outputs": [
    {
     "data": {
      "text/plain": [
       "Country_Name\n",
       "Afghanistan      83810.0\n",
       "Albania           8962.0\n",
       "Algeria          73129.0\n",
       "Angola           18764.0\n",
       "Argentina      1082648.0\n",
       "                 ...    \n",
       "Venezuela        35704.0\n",
       "Vietnam         736947.0\n",
       "Yemen             5606.0\n",
       "Zambia           49485.0\n",
       "Zimbabwe         11861.0\n",
       "Name: Value, Length: 133, dtype: float64"
      ]
     },
     "execution_count": 18,
     "metadata": {},
     "output_type": "execute_result"
    }
   ],
   "source": [
    "popWfoodinfo_2010 = pop2[pop2['Country/Territory'].isin(food2.loc[food2['Year'] == 2010, 'Country_Name'])]\n",
    "food2_2010 = food2.loc[food2['Country_Name'].isin(popWfoodinfo_2010['Country/Territory']) & (food2['Year'] == 2010)].groupby('Country_Name')['Value'].sum()\n",
    "food2_2010"
   ]
  },
  {
   "cell_type": "code",
   "execution_count": 19,
   "metadata": {},
   "outputs": [
    {
     "data": {
      "text/plain": [
       "Country_Name\n",
       "Afghanistan     1858.0\n",
       "Albania         2029.0\n",
       "Algeria          762.0\n",
       "Angola           421.0\n",
       "Argentina      64423.0\n",
       "                ...   \n",
       "Venezuela       2800.0\n",
       "Vietnam        44957.0\n",
       "Yemen            331.0\n",
       "Zambia          1331.0\n",
       "Zimbabwe        4100.0\n",
       "Name: Value, Length: 131, dtype: float64"
      ]
     },
     "execution_count": 19,
     "metadata": {},
     "output_type": "execute_result"
    }
   ],
   "source": [
    "popWfoodinfo_2000 = pop2[pop2['Country/Territory'].isin(food2.loc[food2['Year'] == 2000, 'Country_Name'])]\n",
    "food2_2000 =food2.loc[food2['Country_Name'].isin(popWfoodinfo_2000['Country/Territory']) & (food2['Year'] == 2000)].groupby('Country_Name')['Value'].sum()\n",
    "food2_2000"
   ]
  },
  {
   "cell_type": "code",
   "execution_count": 20,
   "metadata": {},
   "outputs": [
    {
     "data": {
      "text/plain": [
       "Country_Name\n",
       "Afghanistan     5013.0\n",
       "Albania          917.0\n",
       "Algeria          778.0\n",
       "Angola           306.0\n",
       "Argentina      37476.0\n",
       "                ...   \n",
       "Uzbekistan      1335.0\n",
       "Venezuela       1270.0\n",
       "Vietnam        13064.0\n",
       "Zambia          1155.0\n",
       "Zimbabwe        1911.0\n",
       "Name: Value, Length: 135, dtype: float64"
      ]
     },
     "execution_count": 20,
     "metadata": {},
     "output_type": "execute_result"
    }
   ],
   "source": [
    "popWfoodinfo_1990 = pop2[pop2['Country/Territory'].isin(food2.loc[food2['Year'] == 1990, 'Country_Name'])]\n",
    "food2_1990 = food2.loc[food2['Country_Name'].isin(popWfoodinfo_1990['Country/Territory']) & (food2['Year'] == 1990)].groupby('Country_Name')['Value'].sum()\n",
    "food2_1990"
   ]
  },
  {
   "cell_type": "code",
   "execution_count": 21,
   "metadata": {},
   "outputs": [
    {
     "data": {
      "text/plain": [
       "Country_Name\n",
       "Afghanistan     3847.0\n",
       "Albania          868.0\n",
       "Algeria         1515.0\n",
       "Angola           383.0\n",
       "Argentina      20866.0\n",
       "                ...   \n",
       "Uruguay          801.0\n",
       "Venezuela        984.0\n",
       "Vietnam         8115.0\n",
       "Zambia           954.0\n",
       "Zimbabwe        2929.0\n",
       "Name: Value, Length: 114, dtype: float64"
      ]
     },
     "execution_count": 21,
     "metadata": {},
     "output_type": "execute_result"
    }
   ],
   "source": [
    "popWfoodinfo_1980 = pop2[pop2['Country/Territory'].isin(food2.loc[food2['Year'] == 1980, 'Country_Name'])]\n",
    "food2_1980 = food2.loc[food2['Country_Name'].isin(popWfoodinfo_1980['Country/Territory']) & (food2['Year'] == 1980)].groupby('Country_Name')['Value'].sum()\n",
    "food2_1980"
   ]
  },
  {
   "cell_type": "code",
   "execution_count": 22,
   "metadata": {},
   "outputs": [
    {
     "data": {
      "text/plain": [
       "Country_Name\n",
       "Afghanistan     2986.0\n",
       "Albania          495.0\n",
       "Algeria         1442.0\n",
       "Angola           493.0\n",
       "Argentina      15037.0\n",
       "                ...   \n",
       "Uruguay          633.0\n",
       "Venezuela        858.0\n",
       "Vietnam         6476.0\n",
       "Zambia           655.0\n",
       "Zimbabwe        1856.0\n",
       "Name: Value, Length: 113, dtype: float64"
      ]
     },
     "execution_count": 22,
     "metadata": {},
     "output_type": "execute_result"
    }
   ],
   "source": [
    "popWfoodinfo_1970 = pop2[pop2['Country/Territory'].isin(food2.loc[food2['Year'] == 1970, 'Country_Name'])]\n",
    "food2_1970 = food2.loc[food2['Country_Name'].isin(popWfoodinfo_1970['Country/Territory']) & (food2['Year'] == 1970)].groupby('Country_Name')['Value'].sum()\n",
    "food2_1970"
   ]
  },
  {
   "cell_type": "code",
   "execution_count": null,
   "metadata": {},
   "outputs": [],
   "source": [
    "#food2_2020 to food2_1970 are summations of all corn, wheat, and rice produced by each country at that specified year. \n",
    "# to obtain data on individual food, need to seperate data. "
   ]
  },
  {
   "cell_type": "code",
   "execution_count": 34,
   "metadata": {
    "scrolled": true
   },
   "outputs": [
    {
     "data": {
      "image/png": "[encoded data removed]",
      "text/plain": [
       "<Figure size 640x480 with 1 Axes>"
      ]
     },
     "metadata": {},
     "output_type": "display_data"
    }
   ],
   "source": [
    "#2/21\n",
    "foodVpop_2020 = plt.subplot()\n",
    "\n",
    "foodVpop_2020.scatter(food2_2020, popWfoodinfo_2020['2020 Population'])\n",
    "foodVpop_2020.set_xlabel('Food Production (GT)')\n",
    "foodVpop_2020.set_ylabel('Population')\n",
    "foodVpop_2020.set_title('Food & Population 2020')\n",
    "foodVpop_2020.set_label(food2_2020)"
   ]
  },
  {
   "cell_type": "code",
   "execution_count": 35,
   "metadata": {},
   "outputs": [
    {
     "data": {
      "text/plain": [
       "Text(0.5, 1.0, 'Food & Population 2015')"
      ]
     },
     "execution_count": 35,
     "metadata": {},
     "output_type": "execute_result"
    },
    {
     "data": {
      "image/png": "[encoded data removed]",
      "text/plain": [
       "<Figure size 640x480 with 1 Axes>"
      ]
     },
     "metadata": {},
     "output_type": "display_data"
    }
   ],
   "source": [
    "foodVpop_2015 = plt.subplot()\n",
    "xfood = food2_2015\n",
    "ypop = popWfoodinfo_2015['2015 Population']\n",
    "foodVpop_2015.scatter(xfood, ypop)\n",
    "foodVpop_2015.set_xlabel('Food Production (GT)')\n",
    "foodVpop_2015.set_ylabel('Population')\n",
    "foodVpop_2015.set_title('Food & Population 2015')"
   ]
  },
  {
   "cell_type": "code",
   "execution_count": 36,
   "metadata": {},
   "outputs": [
    {
     "data": {
      "text/plain": [
       "Text(0.5, 1.0, 'Food & Population 2010')"
      ]
     },
     "execution_count": 36,
     "metadata": {},
     "output_type": "execute_result"
    },
    {
     "data": {
      "image/png": "[encoded data removed]",
      "text/plain": [
       "<Figure size 640x480 with 1 Axes>"
      ]
     },
     "metadata": {},
     "output_type": "display_data"
    }
   ],
   "source": [
    "foodVpop_2010 = plt.subplot()\n",
    "xfood = food2_2010\n",
    "ypop = popWfoodinfo_2010['2010 Population']\n",
    "foodVpop_2010.scatter(xfood, ypop)\n",
    "foodVpop_2010.set_xlabel('Food Production (GT)')\n",
    "foodVpop_2010.set_ylabel('Population')\n",
    "foodVpop_2010.set_title('Food & Population 2010')"
   ]
  },
  {
   "cell_type": "code",
   "execution_count": 37,
   "metadata": {},
   "outputs": [
    {
     "data": {
      "text/plain": [
       "Text(0.5, 1.0, 'Food & Population 2000')"
      ]
     },
     "execution_count": 37,
     "metadata": {},
     "output_type": "execute_result"
    },
    {
     "data": {
      "image/png": "[encoded data removed]",
      "text/plain": [
       "<Figure size 640x480 with 1 Axes>"
      ]
     },
     "metadata": {},
     "output_type": "display_data"
    }
   ],
   "source": [
    "foodVpop_2000 = plt.subplot()\n",
    "xfood = food2_2000\n",
    "ypop = popWfoodinfo_2000['2000 Population']\n",
    "foodVpop_2000.scatter(xfood, ypop)\n",
    "foodVpop_2000.set_xlabel('Food Production (GT)')\n",
    "foodVpop_2000.set_ylabel('Population')\n",
    "foodVpop_2000.set_title('Food & Population 2000')"
   ]
  },
  {
   "cell_type": "code",
   "execution_count": 38,
   "metadata": {},
   "outputs": [
    {
     "data": {
      "text/plain": [
       "Text(0.5, 1.0, 'Food & Population 1990')"
      ]
     },
     "execution_count": 38,
     "metadata": {},
     "output_type": "execute_result"
    },
    {
     "data": {
      "image/png": "[encoded data removed]",
      "text/plain": [
       "<Figure size 640x480 with 1 Axes>"
      ]
     },
     "metadata": {},
     "output_type": "display_data"
    }
   ],
   "source": [
    "foodVpop_1990 = plt.subplot()\n",
    "xfood = food2_1990\n",
    "ypop = popWfoodinfo_1990['1990 Population']\n",
    "foodVpop_1990.scatter(xfood, ypop)\n",
    "foodVpop_1990.set_xlabel('Food Production (GT)')\n",
    "foodVpop_1990.set_ylabel('Population')\n",
    "foodVpop_1990.set_title('Food & Population 1990')"
   ]
  },
  {
   "cell_type": "code",
   "execution_count": 39,
   "metadata": {},
   "outputs": [
    {
     "data": {
      "text/plain": [
       "Text(0.5, 1.0, 'Food & Population 1980')"
      ]
     },
     "execution_count": 39,
     "metadata": {},
     "output_type": "execute_result"
    },
    {
     "data": {
      "image/png": "[encoded data removed]",
      "text/plain": [
       "<Figure size 640x480 with 1 Axes>"
      ]
     },
     "metadata": {},
     "output_type": "display_data"
    }
   ],
   "source": [
    "foodVpop_1980 = plt.subplot()\n",
    "xfood = food2_1980\n",
    "ypop = popWfoodinfo_1980['1980 Population']\n",
    "foodVpop_1980.scatter(xfood, ypop)\n",
    "foodVpop_1980.set_xlabel('Food Production (GT)')\n",
    "foodVpop_1980.set_ylabel('Population')\n",
    "foodVpop_1980.set_title('Food & Population 1980')"
   ]
  },
  {
   "cell_type": "code",
   "execution_count": 40,
   "metadata": {},
   "outputs": [
    {
     "data": {
      "text/plain": [
       "Text(0.5, 1.0, 'Food & Population 1970')"
      ]
     },
     "execution_count": 40,
     "metadata": {},
     "output_type": "execute_result"
    },
    {
     "data": {
      "image/png": "[encoded data removed]",
      "text/plain": [
       "<Figure size 640x480 with 1 Axes>"
      ]
     },
     "metadata": {},
     "output_type": "display_data"
    }
   ],
   "source": [
    "foodVpop_1970 = plt.subplot()\n",
    "xfood = food2_1970\n",
    "ypop = popWfoodinfo_1970['1970 Population']\n",
    "foodVpop_1970.scatter(xfood, ypop)\n",
    "foodVpop_1970.set_xlabel('Food Production (GT)')\n",
    "foodVpop_1970.set_ylabel('Population')\n",
    "foodVpop_1970.set_title('Food & Population 1970')"
   ]
  },
  {
   "cell_type": "code",
   "execution_count": 9,
   "metadata": {
    "scrolled": true
   },
   "outputs": [
    {
     "ename": "ValueError",
     "evalue": "x and y must be the same size",
     "output_type": "error",
     "traceback": [
      "\u001b[1;31m---------------------------------------------------------------------------\u001b[0m",
      "\u001b[1;31mValueError\u001b[0m                                Traceback (most recent call last)",
      "Cell \u001b[1;32mIn[9], line 2\u001b[0m\n\u001b[0;32m      1\u001b[0m \u001b[38;5;66;03m#failed \u001b[39;00m\n\u001b[1;32m----> 2\u001b[0m plt\u001b[38;5;241m.\u001b[39mscatter(\n\u001b[0;32m      3\u001b[0m     food2\u001b[38;5;241m.\u001b[39mloc[food2[\u001b[38;5;124m'\u001b[39m\u001b[38;5;124mCountry_Name\u001b[39m\u001b[38;5;124m'\u001b[39m]\u001b[38;5;241m.\u001b[39misin(pop2[\u001b[38;5;124m'\u001b[39m\u001b[38;5;124mCountry/Territory\u001b[39m\u001b[38;5;124m'\u001b[39m]) \u001b[38;5;241m&\u001b[39m (food2[\u001b[38;5;124m'\u001b[39m\u001b[38;5;124mCommodity_Description\u001b[39m\u001b[38;5;124m'\u001b[39m] \u001b[38;5;241m==\u001b[39m \u001b[38;5;124m'\u001b[39m\u001b[38;5;124mCorn\u001b[39m\u001b[38;5;124m'\u001b[39m) \u001b[38;5;241m&\u001b[39m (food2[\u001b[38;5;124m'\u001b[39m\u001b[38;5;124mYear\u001b[39m\u001b[38;5;124m'\u001b[39m] \u001b[38;5;241m==\u001b[39m \u001b[38;5;241m2020\u001b[39m), \u001b[38;5;124m'\u001b[39m\u001b[38;5;124mValue\u001b[39m\u001b[38;5;124m'\u001b[39m], \n\u001b[0;32m      4\u001b[0m     pop2\u001b[38;5;241m.\u001b[39mloc[:, \u001b[38;5;124m'\u001b[39m\u001b[38;5;124m2020 Population\u001b[39m\u001b[38;5;124m'\u001b[39m]\n\u001b[0;32m      5\u001b[0m     )\n\u001b[0;32m      6\u001b[0m food2\u001b[38;5;241m.\u001b[39mloc[food2[\u001b[38;5;124m'\u001b[39m\u001b[38;5;124mCountry_Name\u001b[39m\u001b[38;5;124m'\u001b[39m]\u001b[38;5;241m.\u001b[39misin(pop2[\u001b[38;5;124m'\u001b[39m\u001b[38;5;124mCountry/Territory\u001b[39m\u001b[38;5;124m'\u001b[39m])]\n\u001b[0;32m      7\u001b[0m food2\u001b[38;5;241m.\u001b[39mloc[food2[\u001b[38;5;124m'\u001b[39m\u001b[38;5;124mCountry_Name\u001b[39m\u001b[38;5;124m'\u001b[39m]\u001b[38;5;241m.\u001b[39misin(pop2[\u001b[38;5;124m'\u001b[39m\u001b[38;5;124mCountry/Territory\u001b[39m\u001b[38;5;124m'\u001b[39m]) \u001b[38;5;241m&\u001b[39m (food2[\u001b[38;5;124m'\u001b[39m\u001b[38;5;124mCommodity_Description\u001b[39m\u001b[38;5;124m'\u001b[39m] \u001b[38;5;241m==\u001b[39m \u001b[38;5;124m'\u001b[39m\u001b[38;5;124mCorn\u001b[39m\u001b[38;5;124m'\u001b[39m) \u001b[38;5;241m&\u001b[39m (food2[\u001b[38;5;124m'\u001b[39m\u001b[38;5;124mYear\u001b[39m\u001b[38;5;124m'\u001b[39m] \u001b[38;5;241m==\u001b[39m \u001b[38;5;241m2020\u001b[39m)]\n",
      "File \u001b[1;32m~\\anaconda3\\Lib\\site-packages\\matplotlib\\pyplot.py:2862\u001b[0m, in \u001b[0;36mscatter\u001b[1;34m(x, y, s, c, marker, cmap, norm, vmin, vmax, alpha, linewidths, edgecolors, plotnonfinite, data, **kwargs)\u001b[0m\n\u001b[0;32m   2857\u001b[0m \u001b[38;5;129m@_copy_docstring_and_deprecators\u001b[39m(Axes\u001b[38;5;241m.\u001b[39mscatter)\n\u001b[0;32m   2858\u001b[0m \u001b[38;5;28;01mdef\u001b[39;00m \u001b[38;5;21mscatter\u001b[39m(\n\u001b[0;32m   2859\u001b[0m         x, y, s\u001b[38;5;241m=\u001b[39m\u001b[38;5;28;01mNone\u001b[39;00m, c\u001b[38;5;241m=\u001b[39m\u001b[38;5;28;01mNone\u001b[39;00m, marker\u001b[38;5;241m=\u001b[39m\u001b[38;5;28;01mNone\u001b[39;00m, cmap\u001b[38;5;241m=\u001b[39m\u001b[38;5;28;01mNone\u001b[39;00m, norm\u001b[38;5;241m=\u001b[39m\u001b[38;5;28;01mNone\u001b[39;00m,\n\u001b[0;32m   2860\u001b[0m         vmin\u001b[38;5;241m=\u001b[39m\u001b[38;5;28;01mNone\u001b[39;00m, vmax\u001b[38;5;241m=\u001b[39m\u001b[38;5;28;01mNone\u001b[39;00m, alpha\u001b[38;5;241m=\u001b[39m\u001b[38;5;28;01mNone\u001b[39;00m, linewidths\u001b[38;5;241m=\u001b[39m\u001b[38;5;28;01mNone\u001b[39;00m, \u001b[38;5;241m*\u001b[39m,\n\u001b[0;32m   2861\u001b[0m         edgecolors\u001b[38;5;241m=\u001b[39m\u001b[38;5;28;01mNone\u001b[39;00m, plotnonfinite\u001b[38;5;241m=\u001b[39m\u001b[38;5;28;01mFalse\u001b[39;00m, data\u001b[38;5;241m=\u001b[39m\u001b[38;5;28;01mNone\u001b[39;00m, \u001b[38;5;241m*\u001b[39m\u001b[38;5;241m*\u001b[39mkwargs):\n\u001b[1;32m-> 2862\u001b[0m     __ret \u001b[38;5;241m=\u001b[39m gca()\u001b[38;5;241m.\u001b[39mscatter(\n\u001b[0;32m   2863\u001b[0m         x, y, s\u001b[38;5;241m=\u001b[39ms, c\u001b[38;5;241m=\u001b[39mc, marker\u001b[38;5;241m=\u001b[39mmarker, cmap\u001b[38;5;241m=\u001b[39mcmap, norm\u001b[38;5;241m=\u001b[39mnorm,\n\u001b[0;32m   2864\u001b[0m         vmin\u001b[38;5;241m=\u001b[39mvmin, vmax\u001b[38;5;241m=\u001b[39mvmax, alpha\u001b[38;5;241m=\u001b[39malpha, linewidths\u001b[38;5;241m=\u001b[39mlinewidths,\n\u001b[0;32m   2865\u001b[0m         edgecolors\u001b[38;5;241m=\u001b[39medgecolors, plotnonfinite\u001b[38;5;241m=\u001b[39mplotnonfinite,\n\u001b[0;32m   2866\u001b[0m         \u001b[38;5;241m*\u001b[39m\u001b[38;5;241m*\u001b[39m({\u001b[38;5;124m\"\u001b[39m\u001b[38;5;124mdata\u001b[39m\u001b[38;5;124m\"\u001b[39m: data} \u001b[38;5;28;01mif\u001b[39;00m data \u001b[38;5;129;01mis\u001b[39;00m \u001b[38;5;129;01mnot\u001b[39;00m \u001b[38;5;28;01mNone\u001b[39;00m \u001b[38;5;28;01melse\u001b[39;00m {}), \u001b[38;5;241m*\u001b[39m\u001b[38;5;241m*\u001b[39mkwargs)\n\u001b[0;32m   2867\u001b[0m     sci(__ret)\n\u001b[0;32m   2868\u001b[0m     \u001b[38;5;28;01mreturn\u001b[39;00m __ret\n",
      "File \u001b[1;32m~\\anaconda3\\Lib\\site-packages\\matplotlib\\__init__.py:1446\u001b[0m, in \u001b[0;36m_preprocess_data.<locals>.inner\u001b[1;34m(ax, data, *args, **kwargs)\u001b[0m\n\u001b[0;32m   1443\u001b[0m \u001b[38;5;129m@functools\u001b[39m\u001b[38;5;241m.\u001b[39mwraps(func)\n\u001b[0;32m   1444\u001b[0m \u001b[38;5;28;01mdef\u001b[39;00m \u001b[38;5;21minner\u001b[39m(ax, \u001b[38;5;241m*\u001b[39margs, data\u001b[38;5;241m=\u001b[39m\u001b[38;5;28;01mNone\u001b[39;00m, \u001b[38;5;241m*\u001b[39m\u001b[38;5;241m*\u001b[39mkwargs):\n\u001b[0;32m   1445\u001b[0m     \u001b[38;5;28;01mif\u001b[39;00m data \u001b[38;5;129;01mis\u001b[39;00m \u001b[38;5;28;01mNone\u001b[39;00m:\n\u001b[1;32m-> 1446\u001b[0m         \u001b[38;5;28;01mreturn\u001b[39;00m func(ax, \u001b[38;5;241m*\u001b[39m\u001b[38;5;28mmap\u001b[39m(sanitize_sequence, args), \u001b[38;5;241m*\u001b[39m\u001b[38;5;241m*\u001b[39mkwargs)\n\u001b[0;32m   1448\u001b[0m     bound \u001b[38;5;241m=\u001b[39m new_sig\u001b[38;5;241m.\u001b[39mbind(ax, \u001b[38;5;241m*\u001b[39margs, \u001b[38;5;241m*\u001b[39m\u001b[38;5;241m*\u001b[39mkwargs)\n\u001b[0;32m   1449\u001b[0m     auto_label \u001b[38;5;241m=\u001b[39m (bound\u001b[38;5;241m.\u001b[39marguments\u001b[38;5;241m.\u001b[39mget(label_namer)\n\u001b[0;32m   1450\u001b[0m                   \u001b[38;5;129;01mor\u001b[39;00m bound\u001b[38;5;241m.\u001b[39mkwargs\u001b[38;5;241m.\u001b[39mget(label_namer))\n",
      "File \u001b[1;32m~\\anaconda3\\Lib\\site-packages\\matplotlib\\axes\\_axes.py:4578\u001b[0m, in \u001b[0;36mAxes.scatter\u001b[1;34m(self, x, y, s, c, marker, cmap, norm, vmin, vmax, alpha, linewidths, edgecolors, plotnonfinite, **kwargs)\u001b[0m\n\u001b[0;32m   4576\u001b[0m y \u001b[38;5;241m=\u001b[39m np\u001b[38;5;241m.\u001b[39mma\u001b[38;5;241m.\u001b[39mravel(y)\n\u001b[0;32m   4577\u001b[0m \u001b[38;5;28;01mif\u001b[39;00m x\u001b[38;5;241m.\u001b[39msize \u001b[38;5;241m!=\u001b[39m y\u001b[38;5;241m.\u001b[39msize:\n\u001b[1;32m-> 4578\u001b[0m     \u001b[38;5;28;01mraise\u001b[39;00m \u001b[38;5;167;01mValueError\u001b[39;00m(\u001b[38;5;124m\"\u001b[39m\u001b[38;5;124mx and y must be the same size\u001b[39m\u001b[38;5;124m\"\u001b[39m)\n\u001b[0;32m   4580\u001b[0m \u001b[38;5;28;01mif\u001b[39;00m s \u001b[38;5;129;01mis\u001b[39;00m \u001b[38;5;28;01mNone\u001b[39;00m:\n\u001b[0;32m   4581\u001b[0m     s \u001b[38;5;241m=\u001b[39m (\u001b[38;5;241m20\u001b[39m \u001b[38;5;28;01mif\u001b[39;00m mpl\u001b[38;5;241m.\u001b[39mrcParams[\u001b[38;5;124m'\u001b[39m\u001b[38;5;124m_internal.classic_mode\u001b[39m\u001b[38;5;124m'\u001b[39m] \u001b[38;5;28;01melse\u001b[39;00m\n\u001b[0;32m   4582\u001b[0m          mpl\u001b[38;5;241m.\u001b[39mrcParams[\u001b[38;5;124m'\u001b[39m\u001b[38;5;124mlines.markersize\u001b[39m\u001b[38;5;124m'\u001b[39m] \u001b[38;5;241m*\u001b[39m\u001b[38;5;241m*\u001b[39m \u001b[38;5;241m2.0\u001b[39m)\n",
      "\u001b[1;31mValueError\u001b[0m: x and y must be the same size"
     ]
    },
    {
     "data": {
      "image/png": "[encoded data removed]",
      "text/plain": [
       "<Figure size 640x480 with 1 Axes>"
      ]
     },
     "metadata": {},
     "output_type": "display_data"
    }
   ],
   "source": [
    "#failed \n",
    "plt.scatter(\n",
    "    food2.loc[food2['Country_Name'].isin(pop2['Country/Territory']) & (food2['Commodity_Description'] == 'Corn') & (food2['Year'] == 2020), 'Value'], \n",
    "    pop2.loc[:, '2020 Population']\n",
    "    )\n",
    "food2.loc[food2['Country_Name'].isin(pop2['Country/Territory'])]\n",
    "food2.loc[food2['Country_Name'].isin(pop2['Country/Territory']) & (food2['Commodity_Description'] == 'Corn') & (food2['Year'] == 2020)]\n",
    "#corn produced by each country at 2020\n",
    "#subtracts 143 rows with food2['Country_Name'].isin(pop2['Country/Territory']) & \n",
    "#some rows that should be gone, are not. like Angola\n",
    "food2.loc[food2['Country_Name'].isin(pop2['Country/Territory']) & (food2['Commodity_Description'] == 'Corn') & (food2['Year'] == 2020), \"Value\"]\n",
    "pop2.loc[:, '2020 Population']\n",
    "# population of the countries that produced the food. \n",
    "pop2.isin(food2['Country_Name'])\n",
    "food2.loc[food2['Country_Name'].isin(pop2['Country/Territory']) == False]\n",
    "food2.loc[(food2['Commodity_Description'] == 'Corn') & (food2['Year'] == 2019) & (food2['Country_Name'] == 'United States')]\n",
    "pop2.loc[pop2['Country/Territory']=='United States']"
   ]
  },
  {
   "cell_type": "code",
   "execution_count": null,
   "metadata": {},
   "outputs": [],
   "source": []
  }
 ],
 "metadata": {
  "kernelspec": {
   "display_name": "Python 3 (ipykernel)",
   "language": "python",
   "name": "python3"
  },
  "language_info": {
   "codemirror_mode": {
    "name": "ipython",
    "version": 3
   },
   "file_extension": ".py",
   "mimetype": "text/x-python",
   "name": "python",
   "nbconvert_exporter": "python",
   "pygments_lexer": "ipython3",
   "version": "3.11.5"
  }
 },
 "nbformat": 4,
 "nbformat_minor": 2
}
